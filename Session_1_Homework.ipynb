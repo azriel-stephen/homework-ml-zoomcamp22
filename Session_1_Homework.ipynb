{
 "cells": [
  {
   "cell_type": "code",
   "execution_count": 1,
   "id": "03688fb2",
   "metadata": {
    "ExecuteTime": {
     "end_time": "2022-09-08T22:35:02.959449Z",
     "start_time": "2022-09-08T22:35:02.027427Z"
    }
   },
   "outputs": [],
   "source": [
    "import numpy as np\n",
    "import pandas as pd"
   ]
  },
  {
   "cell_type": "code",
   "execution_count": 2,
   "id": "c4c2ab56",
   "metadata": {
    "ExecuteTime": {
     "end_time": "2022-09-08T22:35:07.784506Z",
     "start_time": "2022-09-08T22:35:07.755730Z"
    }
   },
   "outputs": [
    {
     "data": {
      "text/plain": [
       "'1.21.5'"
      ]
     },
     "execution_count": 2,
     "metadata": {},
     "output_type": "execute_result"
    }
   ],
   "source": [
    "np.__version__"
   ]
  },
  {
   "cell_type": "code",
   "execution_count": 3,
   "id": "5477aac1",
   "metadata": {
    "ExecuteTime": {
     "end_time": "2022-09-08T22:35:38.701820Z",
     "start_time": "2022-09-08T22:35:36.340576Z"
    },
    "scrolled": true
   },
   "outputs": [
    {
     "name": "stderr",
     "output_type": "stream",
     "text": [
      "--2022-09-09 04:05:37--  https://raw.githubusercontent.com/alexeygrigorev/mlbookcamp-code/master/chapter-02-car-price/data.csv\n",
      "Resolving raw.githubusercontent.com (raw.githubusercontent.com)... 185.199.110.133, 185.199.108.133, 185.199.109.133, ...\n",
      "Connecting to raw.githubusercontent.com (raw.githubusercontent.com)|185.199.110.133|:443... connected.\n",
      "HTTP request sent, awaiting response... 200 OK\n",
      "Length: 1475504 (1.4M) [text/plain]\n",
      "Saving to: 'data.csv'\n",
      "\n",
      "     0K .......... .......... .......... .......... ..........  3% 2.18M 1s\n",
      "    50K .......... .......... .......... .......... ..........  6% 8.21M 0s\n",
      "   100K .......... .......... .......... .......... .......... 10% 3.79M 0s\n",
      "   150K .......... .......... .......... .......... .......... 13% 9.36M 0s\n",
      "   200K .......... .......... .......... .......... .......... 17% 3.28M 0s\n",
      "   250K .......... .......... .......... .......... .......... 20% 9.25M 0s\n",
      "   300K .......... .......... .......... .......... .......... 24% 17.4M 0s\n",
      "   350K .......... .......... .......... .......... .......... 27% 17.0M 0s\n",
      "   400K .......... .......... .......... .......... .......... 31% 35.9M 0s\n",
      "   450K .......... .......... .......... .......... .......... 34% 7.29M 0s\n",
      "   500K .......... .......... .......... .......... .......... 38% 5.76M 0s\n",
      "   550K .......... .......... .......... .......... .......... 41% 49.3M 0s\n",
      "   600K .......... .......... .......... .......... .......... 45% 27.0M 0s\n",
      "   650K .......... .......... .......... .......... .......... 48% 11.3M 0s\n",
      "   700K .......... .......... .......... .......... .......... 52% 11.2M 0s\n",
      "   750K .......... .......... .......... .......... .......... 55% 53.8M 0s\n",
      "   800K .......... .......... .......... .......... .......... 58% 72.1M 0s\n",
      "   850K .......... .......... .......... .......... .......... 62% 26.9M 0s\n",
      "   900K .......... .......... .......... .......... .......... 65% 72.0M 0s\n",
      "   950K .......... .......... .......... .......... .......... 69% 74.8M 0s\n",
      "  1000K .......... .......... .......... .......... .......... 72% 90.1M 0s\n",
      "  1050K .......... .......... .......... .......... .......... 76% 8.59M 0s\n",
      "  1100K .......... .......... .......... .......... .......... 79% 35.3M 0s\n",
      "  1150K .......... .......... .......... .......... .......... 83% 30.6M 0s\n",
      "  1200K .......... .......... .......... .......... .......... 86%  106M 0s\n",
      "  1250K .......... .......... .......... .......... .......... 90% 9.19M 0s\n",
      "  1300K .......... .......... .......... .......... .......... 93% 74.5M 0s\n",
      "  1350K .......... .......... .......... .......... .......... 97% 8.71M 0s\n",
      "  1400K .......... .......... .......... ..........           100% 60.0M=0.1s\n",
      "\n",
      "2022-09-09 04:05:38 (11.1 MB/s) - 'data.csv' saved [1475504/1475504]\n",
      "\n"
     ]
    }
   ],
   "source": [
    "!wget https://raw.githubusercontent.com/alexeygrigorev/mlbookcamp-code/master/chapter-02-car-price/data.csv"
   ]
  },
  {
   "cell_type": "code",
   "execution_count": 6,
   "id": "9ff1f9e9",
   "metadata": {
    "ExecuteTime": {
     "end_time": "2022-09-08T22:36:33.064838Z",
     "start_time": "2022-09-08T22:36:32.990963Z"
    }
   },
   "outputs": [],
   "source": [
    "df = pd.read_csv('data.csv')"
   ]
  },
  {
   "cell_type": "code",
   "execution_count": 11,
   "id": "729978d1",
   "metadata": {
    "ExecuteTime": {
     "end_time": "2022-09-08T22:37:15.575233Z",
     "start_time": "2022-09-08T22:37:15.561227Z"
    }
   },
   "outputs": [
    {
     "data": {
      "text/plain": [
       "(11914, 16)"
      ]
     },
     "execution_count": 11,
     "metadata": {},
     "output_type": "execute_result"
    }
   ],
   "source": [
    "df.shape"
   ]
  },
  {
   "cell_type": "code",
   "execution_count": 18,
   "id": "aed7fe7e",
   "metadata": {
    "ExecuteTime": {
     "end_time": "2022-09-08T22:39:41.268971Z",
     "start_time": "2022-09-08T22:39:41.252226Z"
    }
   },
   "outputs": [
    {
     "data": {
      "text/plain": [
       "Chevrolet     1123\n",
       "Ford           881\n",
       "Volkswagen     809\n",
       "Name: Make, dtype: int64"
      ]
     },
     "execution_count": 18,
     "metadata": {},
     "output_type": "execute_result"
    }
   ],
   "source": [
    "df['Make'].value_counts().iloc[:3]"
   ]
  },
  {
   "cell_type": "code",
   "execution_count": 35,
   "id": "03f02b4d",
   "metadata": {
    "ExecuteTime": {
     "end_time": "2022-09-08T22:43:27.274767Z",
     "start_time": "2022-09-08T22:43:27.260771Z"
    }
   },
   "outputs": [
    {
     "data": {
      "text/plain": [
       "34"
      ]
     },
     "execution_count": 35,
     "metadata": {},
     "output_type": "execute_result"
    }
   ],
   "source": [
    "df[df['Make'] == 'Audi']['Model'].nunique()"
   ]
  },
  {
   "cell_type": "code",
   "execution_count": 51,
   "id": "21889f5f",
   "metadata": {
    "ExecuteTime": {
     "end_time": "2022-09-08T22:46:11.616933Z",
     "start_time": "2022-09-08T22:46:11.577872Z"
    }
   },
   "outputs": [
    {
     "data": {
      "text/plain": [
       "5"
      ]
     },
     "execution_count": 51,
     "metadata": {},
     "output_type": "execute_result"
    }
   ],
   "source": [
    "df.isna().any().sum()"
   ]
  },
  {
   "cell_type": "code",
   "execution_count": 54,
   "id": "453b5b49",
   "metadata": {
    "ExecuteTime": {
     "end_time": "2022-09-08T22:47:11.426404Z",
     "start_time": "2022-09-08T22:47:11.414822Z"
    }
   },
   "outputs": [
    {
     "data": {
      "text/plain": [
       "6.0"
      ]
     },
     "execution_count": 54,
     "metadata": {},
     "output_type": "execute_result"
    }
   ],
   "source": [
    "df['Engine Cylinders'].median()"
   ]
  },
  {
   "cell_type": "code",
   "execution_count": 68,
   "id": "ed60b036",
   "metadata": {
    "ExecuteTime": {
     "end_time": "2022-09-08T22:50:01.521060Z",
     "start_time": "2022-09-08T22:50:01.498264Z"
    }
   },
   "outputs": [
    {
     "data": {
      "text/plain": [
       "4.0"
      ]
     },
     "execution_count": 68,
     "metadata": {},
     "output_type": "execute_result"
    }
   ],
   "source": [
    "fill_val = df['Engine Cylinders'].value_counts().index[0]\n",
    "fill_val"
   ]
  },
  {
   "cell_type": "code",
   "execution_count": 71,
   "id": "c3bb399b",
   "metadata": {
    "ExecuteTime": {
     "end_time": "2022-09-08T22:50:44.371165Z",
     "start_time": "2022-09-08T22:50:44.360197Z"
    }
   },
   "outputs": [],
   "source": [
    "df['Engine Cylinders'].fillna(fill_val, inplace=True)"
   ]
  },
  {
   "cell_type": "code",
   "execution_count": 73,
   "id": "d75efd27",
   "metadata": {
    "ExecuteTime": {
     "end_time": "2022-09-08T22:50:56.731828Z",
     "start_time": "2022-09-08T22:50:56.712820Z"
    }
   },
   "outputs": [
    {
     "data": {
      "text/plain": [
       "6.0"
      ]
     },
     "execution_count": 73,
     "metadata": {},
     "output_type": "execute_result"
    }
   ],
   "source": [
    "df['Engine Cylinders'].median()"
   ]
  },
  {
   "cell_type": "code",
   "execution_count": 92,
   "id": "1365e7c6",
   "metadata": {
    "ExecuteTime": {
     "end_time": "2022-09-08T22:57:47.102259Z",
     "start_time": "2022-09-08T22:57:47.073285Z"
    }
   },
   "outputs": [
    {
     "data": {
      "text/html": [
       "<div>\n",
       "<style scoped>\n",
       "    .dataframe tbody tr th:only-of-type {\n",
       "        vertical-align: middle;\n",
       "    }\n",
       "\n",
       "    .dataframe tbody tr th {\n",
       "        vertical-align: top;\n",
       "    }\n",
       "\n",
       "    .dataframe thead th {\n",
       "        text-align: right;\n",
       "    }\n",
       "</style>\n",
       "<table border=\"1\" class=\"dataframe\">\n",
       "  <thead>\n",
       "    <tr style=\"text-align: right;\">\n",
       "      <th></th>\n",
       "      <th>Engine HP</th>\n",
       "      <th>Engine Cylinders</th>\n",
       "    </tr>\n",
       "  </thead>\n",
       "  <tbody>\n",
       "    <tr>\n",
       "      <th>3912</th>\n",
       "      <td>189.0</td>\n",
       "      <td>4.0</td>\n",
       "    </tr>\n",
       "    <tr>\n",
       "      <th>3913</th>\n",
       "      <td>218.0</td>\n",
       "      <td>4.0</td>\n",
       "    </tr>\n",
       "    <tr>\n",
       "      <th>3918</th>\n",
       "      <td>217.0</td>\n",
       "      <td>4.0</td>\n",
       "    </tr>\n",
       "    <tr>\n",
       "      <th>4216</th>\n",
       "      <td>350.0</td>\n",
       "      <td>8.0</td>\n",
       "    </tr>\n",
       "    <tr>\n",
       "      <th>4257</th>\n",
       "      <td>400.0</td>\n",
       "      <td>6.0</td>\n",
       "    </tr>\n",
       "    <tr>\n",
       "      <th>4259</th>\n",
       "      <td>276.0</td>\n",
       "      <td>6.0</td>\n",
       "    </tr>\n",
       "    <tr>\n",
       "      <th>4262</th>\n",
       "      <td>345.0</td>\n",
       "      <td>6.0</td>\n",
       "    </tr>\n",
       "    <tr>\n",
       "      <th>4292</th>\n",
       "      <td>257.0</td>\n",
       "      <td>4.0</td>\n",
       "    </tr>\n",
       "    <tr>\n",
       "      <th>4293</th>\n",
       "      <td>240.0</td>\n",
       "      <td>4.0</td>\n",
       "    </tr>\n",
       "  </tbody>\n",
       "</table>\n",
       "</div>"
      ],
      "text/plain": [
       "      Engine HP  Engine Cylinders\n",
       "3912      189.0               4.0\n",
       "3913      218.0               4.0\n",
       "3918      217.0               4.0\n",
       "4216      350.0               8.0\n",
       "4257      400.0               6.0\n",
       "4259      276.0               6.0\n",
       "4262      345.0               6.0\n",
       "4292      257.0               4.0\n",
       "4293      240.0               4.0"
      ]
     },
     "execution_count": 92,
     "metadata": {},
     "output_type": "execute_result"
    }
   ],
   "source": [
    "X = df[df['Make'] == 'Lotus'][['Engine HP', 'Engine Cylinders']].drop_duplicates()\n",
    "X"
   ]
  },
  {
   "cell_type": "code",
   "execution_count": 98,
   "id": "f60dc726",
   "metadata": {
    "ExecuteTime": {
     "end_time": "2022-09-08T22:59:10.907785Z",
     "start_time": "2022-09-08T22:59:10.886993Z"
    }
   },
   "outputs": [
    {
     "data": {
      "text/plain": [
       "array([[7.31684e+05, 1.34100e+04],\n",
       "       [1.34100e+04, 2.52000e+02]])"
      ]
     },
     "execution_count": 98,
     "metadata": {},
     "output_type": "execute_result"
    }
   ],
   "source": [
    "XTX = np.dot(X.T, X)\n",
    "XTX"
   ]
  },
  {
   "cell_type": "code",
   "execution_count": 96,
   "id": "b8503f9b",
   "metadata": {
    "ExecuteTime": {
     "end_time": "2022-09-08T22:59:00.606403Z",
     "start_time": "2022-09-08T22:59:00.593393Z"
    }
   },
   "outputs": [
    {
     "data": {
      "text/plain": [
       "array([1100,  800,  750,  850, 1300, 1000, 1000, 1300,  800])"
      ]
     },
     "execution_count": 96,
     "metadata": {},
     "output_type": "execute_result"
    }
   ],
   "source": [
    "y = np.array([1100, 800, 750, 850, 1300, 1000, 1000, 1300, 800])\n",
    "y"
   ]
  },
  {
   "cell_type": "code",
   "execution_count": 99,
   "id": "5c7a4614",
   "metadata": {
    "ExecuteTime": {
     "end_time": "2022-09-08T23:01:18.014062Z",
     "start_time": "2022-09-08T23:01:17.955188Z"
    }
   },
   "outputs": [],
   "source": [
    "w = np.dot( np.dot(np.linalg.inv(XTX), X.T), y)"
   ]
  },
  {
   "cell_type": "code",
   "execution_count": 102,
   "id": "4f846644",
   "metadata": {
    "ExecuteTime": {
     "end_time": "2022-09-08T23:01:37.404766Z",
     "start_time": "2022-09-08T23:01:37.389114Z"
    }
   },
   "outputs": [
    {
     "data": {
      "text/plain": [
       "4.5949"
      ]
     },
     "execution_count": 102,
     "metadata": {},
     "output_type": "execute_result"
    }
   ],
   "source": [
    "w[0].round(4)"
   ]
  }
 ],
 "metadata": {
  "kernelspec": {
   "display_name": "Python 3 (ipykernel)",
   "language": "python",
   "name": "python3"
  },
  "language_info": {
   "codemirror_mode": {
    "name": "ipython",
    "version": 3
   },
   "file_extension": ".py",
   "mimetype": "text/x-python",
   "name": "python",
   "nbconvert_exporter": "python",
   "pygments_lexer": "ipython3",
   "version": "3.9.13"
  },
  "toc": {
   "base_numbering": 1,
   "nav_menu": {},
   "number_sections": true,
   "sideBar": true,
   "skip_h1_title": false,
   "title_cell": "Table of Contents",
   "title_sidebar": "Contents",
   "toc_cell": false,
   "toc_position": {},
   "toc_section_display": true,
   "toc_window_display": false
  },
  "varInspector": {
   "cols": {
    "lenName": 16,
    "lenType": 16,
    "lenVar": 40
   },
   "kernels_config": {
    "python": {
     "delete_cmd_postfix": "",
     "delete_cmd_prefix": "del ",
     "library": "var_list.py",
     "varRefreshCmd": "print(var_dic_list())"
    },
    "r": {
     "delete_cmd_postfix": ") ",
     "delete_cmd_prefix": "rm(",
     "library": "var_list.r",
     "varRefreshCmd": "cat(var_dic_list()) "
    }
   },
   "types_to_exclude": [
    "module",
    "function",
    "builtin_function_or_method",
    "instance",
    "_Feature"
   ],
   "window_display": false
  }
 },
 "nbformat": 4,
 "nbformat_minor": 5
}
